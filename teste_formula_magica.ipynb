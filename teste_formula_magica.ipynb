{
  "nbformat": 4,
  "nbformat_minor": 0,
  "metadata": {
    "colab": {
      "name": "teste-formula-magica.ipynb",
      "provenance": [],
      "collapsed_sections": [],
      "authorship_tag": "ABX9TyMfLImkLk2R35vVvwylPx8S",
      "include_colab_link": true
    },
    "kernelspec": {
      "name": "python3",
      "display_name": "Python 3"
    },
    "language_info": {
      "name": "python"
    }
  },
  "cells": [
    {
      "cell_type": "markdown",
      "metadata": {
        "id": "view-in-github",
        "colab_type": "text"
      },
      "source": [
        "<a href=\"https://colab.research.google.com/github/psgrigoletti/margem-liquida-colab/blob/main/teste_formula_magica.ipynb\" target=\"_parent\"><img src=\"https://colab.research.google.com/assets/colab-badge.svg\" alt=\"Open In Colab\"/></a>"
      ]
    },
    {
      "cell_type": "markdown",
      "source": [
        ""
      ],
      "metadata": {
        "id": "CzwJmofkPhCf"
      }
    },
    {
      "cell_type": "markdown",
      "source": [
        "# Fórmula Mágica de Joel Greenblatt\n",
        "\n",
        "Fórmula Mágica é o nome dado à uma estratégia de seleção de ações na bolsa de valores. Trata-se de uma fórmula que foi apresentada no livro *“The Little Book That Beats The Market”*, de **Joel Greenblatt**.\n",
        "\n",
        "A obra foi publicada em 2005 e desde então vendeu milhares de cópias, tornando-se um clássico na literatura nas finanças.\n",
        "A Fórmula Mágica se destaca por ser simples e de fácil aplicação.\n",
        "\n",
        "## Afinal, como funciona essa tal fórmula mágica de seleção de ações?\n",
        "\n",
        "Antes de partirmos para a explicação, é importante reforçar que esse método nada mais é do que uma tradução em números de uma das mais famosas máximas de Warren Buffett.\n",
        "\n",
        "*“É melhor comprar uma empresa maravilhosa a um preço justo do que comprar uma empresa justa a um preço maravilhoso.”*\n",
        "\n",
        "Essa frase leva em consideração dois elementos-chave para a estratégia:\n",
        "\n",
        "*   **A empresa maravilhosa**\n",
        "*   **O preço justo**\n",
        "\n",
        "Para Greenblatt, esses dois elementos podem ser traduzidos em números. Porém, o grande desafio foi justamente encontrar os indicadores que melhor representariam esses dois conceitos.\n",
        "\n",
        "### A empresa maravilhosa\n",
        "\n",
        "Precisamos concordar que definir o termo “bom negócio” não é tão trivial de ser feito. Se eu perguntar para 10 diferentes investidores qual é a definição de uma “empresa maravilhosa”, é provável que eu receba 10 respostas diferentes.\n",
        "\n",
        "Para definir o número que melhor traduz esse elemento da estratégia de Buffett, Greenblatt se baseou em uma passagem da carta aos acionistas que o megainvestidor enviou em 1977.\n",
        "Nesse texto, Warren Buffett explica porque ele utiliza o retorno sobre o capital como medida de um bom negócio.\n",
        "\n",
        "Esta passagem é reproduzida logo abaixo:\n",
        "\n",
        "**A maioria das empresas de capital aberto definem como “lucros recordes” um novo recorde no lucro por ação. Considerando que as empresas têm o costume de aumentar sua base patrimonial ano a ano (reinvestindo os lucros), não é comum de vermos, por exemplo, um aumento de 10% da base de capital e um crescimento de 5% no lucro por ação. Afinal de contas, até um patrimônio totalmente alocado em títulos de curto prazo vai produzir um certo crescimento ano a ano, por conta dos juros compostos.**\n",
        "\n",
        "Exceto em situações especiais (por exemplo, empresas com proporções pouco usuais de dívida para ações ou empresas com importantes ativos contabilizados por valores irreais), a gente acredita que o retorno sob o capital próprio é uma medida mais apropriada para medir a performance econômica da empresa.\n",
        "\n",
        "Dessa forma, Greenblatt traduziu a definição de Buffett para a seguinte fórmula:\n",
        "\n",
        "`Retorno sobre o capital (ROC) = Ebit/Capital`\n",
        "\n",
        "Nessa fórmula:\n",
        "\n",
        "Ebit significa earnings before interest and taxes e representa uma aproximação do que seria o “lucro operacional” de uma empresa\n",
        "Capital traduz os “ativos fixos” somados com o capital de giro líquido (ativo circulante – passivo circulante – caixa e equivalentes)\n",
        "\n",
        "O “Ebit” é utilizado em detrimento do “lucro líquido” para que possa ser realizada, com mais facilidade, uma comparação entre empresas com diferentes estruturas de capital e resultados financeiros..\n",
        "\n",
        "Já o “Capital” exclui ativos intangíveis e o ágio, para que o cálculo leve em consideração apenas os ativos realmente utilizados pela empresa para gerar retornos maiores, no futuro.\n",
        "Quanto maior for o “ROC” de uma empresa, mais dinheiro ela gera por cada real investido no próprio negócio.\n",
        "\n",
        "### O preço justo\n",
        "\n",
        "Para o segundo elemento-chave da estratégia de Buffett, Greenblatt utilizou um múltiplo chamado de earning yield, muito similar ao inverso do popular P/L.\n",
        "\n",
        "Mais uma vez, ele preferiu utilizar o “Ebit” em detrimento do “lucro”, já que o lucro líquido é muito influenciado pela estrutura de capital escolhida por cada empresa.\n",
        "E, em vez de utilizar o “Patrimônio Líquido” no denominador, Greenblatt opta por um múltiplo chamado de Total Enterprise Value (TEV).\n",
        "\n",
        "O TEV indica, basicamente, qual seria o custo que alguém teria que arcar para adquirir a empresa inteira.\n",
        "Ou seja: ele é a soma do valor de mercado da empresa com seu endividamento líquido (a diferença entre a dívida total e o dinheiro em caixa).\n",
        "\n",
        "Por fim, ele batiza esta relação entre EBIT e TEV (EBIT/TEV) de Earnings Yield (EY).\n",
        "\n",
        "\n",
        "```\n",
        "EY = Ebit/Tev\n",
        "```\n",
        "\n",
        "Com esta composição, a fórmula mágica de Greenblatt nos permite comparar ações com diferentes estruturas de capital e de diferentes setores."
      ],
      "metadata": {
        "id": "Orgo5cqeNF2f"
      }
    },
    {
      "cell_type": "markdown",
      "source": [
        "## Filtros usados\n",
        "\n",
        "- Removendo ativos de baixa liquidez\n",
        "- Removendo ativos com ROE e ROIC negativo\n",
        "- Removendo ativos com P/L e EV/EBIT negativo\n",
        "- Removendo ativos que pagam pouco dividendo\n",
        "- Removendo ativos dos setores: bancos e seguradoras\n",
        "\n",
        "## ROE e ROIC (quanto mais alto, melhor no ranking)\n",
        "\n",
        "Em termos gerais, quanto mais alto for o valor do índice, maior foi o retorno obtido pela empresa. No entanto, para fazer uma análise precisa, é recomendado comparar o ROIC com o Custo Médio Ponderado de Capital (WACC). Dessa maneira, é possível verificar com precisão se a empresa está ou não gerando valor.\n",
        "\n",
        "De certo modo, se a porcentagem é baixa, a companhia não obteve muito êxito com os investimentos. Se o resultado for alto, a empresa está gerando lucro com os ativos e investindo de forma estratégica o dinheiro dos acionistas e stakeholders.\n",
        "\n",
        "## P/L e EV/EBIT (quanto mais baixo, melhor no ranking -> empresa subavaliada)\n",
        "\n",
        "O EV/EBIT é um indicador financeiro que compara o Valor da Firma (EV ou Enterprise Value) com o Lucro Antes de Impostos e Taxas, o EBIT.\n",
        "\n",
        "A principal função do EV/EBIT é ajudar a identificar quanto uma empresa custa em relação ao que ela produz a partir de sua atividade fim.\n",
        "\n",
        "**Quando o EV/EBIT está elevado**, existe uma indicação de que a empresa possui uma boa avaliação no mercado. Consequentemente, isso significa que suas ações estão valorizadas.\n",
        "\n",
        "Enquanto isso, **um EV/EBIT baixo** demonstra que a empresa está sendo subavaliada. Com isso, possuem uma forte tendência de valorização ao longo do tempo, tornando a ação mais atrativa para a compra."
      ],
      "metadata": {
        "id": "IKN1ZAXvyk23"
      }
    },
    {
      "cell_type": "markdown",
      "source": [
        "# Instalando as bibliotecas"
      ],
      "metadata": {
        "id": "mtFlZpM3yagd"
      }
    },
    {
      "cell_type": "code",
      "source": [
        "# !pip install kora\n",
        "!pip install fundamentus"
      ],
      "metadata": {
        "id": "AfstTW1oxlJ9"
      },
      "execution_count": null,
      "outputs": []
    },
    {
      "cell_type": "code",
      "source": [
        "# from kora.selenium import wd\n",
        "# from selenium.webdriver.common.by import By\n",
        "# from time import sleep\n",
        "import pandas as pd\n",
        "import fundamentus"
      ],
      "metadata": {
        "id": "w7zyMaz-xqpd"
      },
      "execution_count": 148,
      "outputs": []
    },
    {
      "cell_type": "code",
      "source": [
        "site = \"2 - StatusInvest\" #@param [\"1 - Fundamentus\", \"2 - StatusInvest\"]\n",
        "campos = \"2 - EV/EBIT e ROIC\" #@param [\"1 - P/L e ROE\", \"2 - EV/EBIT e ROIC\", \"3 - EV/EBITDA e ROIC\"]\n",
        "liquidez_minima_diaria = 200000 #@param {type:\"number\"}\n",
        "dividend_yield_minimo = 6 #@param {type:\"number\"}\n",
        "numero_ativos_resultantes = 75 #@param {type:\"number\"}\n",
        "cotacao_minima = 1 #@param {type:\"number\"}\n",
        "lista_de_bancos = ['BPAC11', 'BIDI11', 'SANB11', 'BBAS3', 'BRSR6', 'SANB11', 'SANB3', 'SANB4', 'ITUB4', 'ITSA4', 'BBDC4']\n",
        "lista_de_seguradoras = ['WIZS3', 'BBSE3', 'CXSE3', 'PSSA3', 'SULA11', 'SULA4', 'SULA3', 'IRBR3']\n",
        "# lista_de_eletricas = ['EQTL3', 'CPFE3', 'CPLE3', 'CPLE6', 'CMIG4', 'TAEE11', 'ELET3', 'ENGI11']\n",
        "# lista_de_bdrs = ['AURA33', 'WSON33']"
      ],
      "metadata": {
        "id": "GHPmMMxUpTE3"
      },
      "execution_count": 155,
      "outputs": []
    },
    {
      "cell_type": "markdown",
      "source": [
        "# Buscando dados do site Fundamentus"
      ],
      "metadata": {
        "id": "NIzgUz5Wyd7X"
      }
    },
    {
      "cell_type": "code",
      "source": [
        "def busca_dados_statusinvest():\n",
        "  try:\n",
        "    df = pd.read_csv('/content/statusinvest-busca-avancada.csv', sep=\";\", decimal=',', thousands='.')\n",
        "  except Exception:\n",
        "    raise Exception(\"Arquivo CSV não encontrado\")\n",
        "    return\n",
        "\n",
        "  df.reset_index(inplace=True)\n",
        "  df.drop([\"P/VP\", \"P/ATIVOS\", \"MARGEM BRUTA\", \"MARGEM EBIT\", \"MARG. LIQUIDA\", \"P/EBIT\",\n",
        "            \"DIVIDA LIQUIDA / EBIT\", \"DIV. LIQ. / PATRI.\", \"PSR\", \"P/CAP. GIRO\", \"P. AT CIR. LIQ.\",\n",
        "            \"LIQ. CORRENTE\", 'ROA', \"PATRIMONIO / ATIVOS\", \"PASSIVOS / ATIVOS\",\n",
        "            \"GIRO ATIVOS\", \"CAGR RECEITAS 5 ANOS\", \"CAGR LUCROS 5 ANOS\", \" VPA\", \" LPA\", \n",
        "            \" PEG Ratio\", \" VALOR DE MERCADO\"], axis=1, inplace = True)\n",
        "  \n",
        "  df.rename(columns={ \"TICKER\": \"Papel\" }, inplace = True)\n",
        "  df.rename(columns={ \"PRECO\": \"Cotação\" }, inplace = True)\n",
        "  df.rename(columns={ \"DY\": \"Div.Yield\" }, inplace = True)\n",
        "  df.rename(columns={ \" LIQUIDEZ MEDIA DIARIA\": \"LIQUIDEZ MEDIA DIARIA\" }, inplace = True)\n",
        "\n",
        "  df['ROIC'] = df.loc[:,'ROIC'] * 100  \n",
        "  df['ROE'] = df.loc[:,'ROE'] * 100  \n",
        "  df['Div.Yield'] = df.loc[:,'Div.Yield'] * 100\n",
        "\n",
        "  df = df[df['LIQUIDEZ MEDIA DIARIA'] > liquidez_minima_diaria] #tirando quem não tem liquidez\n",
        "  df = df[df['P/L'] > 0] #tirando quem tem prejuizo\n",
        "  df = df[df['EV/EBIT'] > 0] #tirando quem tem prejuizo\n",
        "  df = df[df['ROIC'] > 0] #tirando quem tem prejuizo\n",
        "  df = df[df['ROE'] > 0] #tirando quem tem prejuizo\n",
        "  df = df[df['Cotação'] >= cotacao_minima] #tirando penny stocks\n",
        "  df = df[df['Div.Yield'] > dividend_yield_minimo]\n",
        "\n",
        "  df = df[~df['Papel'].isin(lista_de_seguradoras)]\n",
        "  df = df[~df['Papel'].isin(lista_de_bancos)]\n",
        "  #df = df[~df['Papel'].isin(lista_de_eletricas)]\n",
        "  #df = df[~df['Papel'].isin(lista_de_bdrs)]\n",
        "  return df"
      ],
      "metadata": {
        "id": "i-PBEwFVShwd"
      },
      "execution_count": 170,
      "outputs": []
    },
    {
      "cell_type": "markdown",
      "source": [
        "# Lendo dados do CVS do StatusInvest"
      ],
      "metadata": {
        "id": "IOk0rgcDd2zQ"
      }
    },
    {
      "cell_type": "code",
      "execution_count": 173,
      "metadata": {
        "id": "SxXRnyF_n8EP",
        "colab": {
          "base_uri": "https://localhost:8080/"
        },
        "outputId": "1cf71be9-9153-49b7-f73a-0b8fc11228b8"
      },
      "outputs": [
        {
          "output_type": "stream",
          "name": "stdout",
          "text": [
            "=======================================\n",
            "Fórmula Mágica: ordenação baseada nos dados do site 2 - StatusInvest\n",
            "=======================================\n",
            "     Papel  Cotação  Div.Yield    P/L  EV/EBIT      ROE    ROIC  LIQUIDEZ MEDIA DIARIA  Ranking ROIC  Ranking EV/EBIT  Ranking Final\n",
            "1    ETER3    14.30      170.0   3.27     2.02   4782.0  4462.0           3.556348e+07           1.0              9.0           10.0\n",
            "2    SYNE3     6.36    13123.0   0.75     1.12   4638.0  3525.0           4.306109e+06          10.0              3.0           13.0\n",
            "3    BRAP4    32.82     3444.0   2.36     1.79   3743.0  3646.0           1.435956e+08           7.0              7.0           14.0\n",
            "4    BRAP3    27.67     3702.0   2.00     1.79   3743.0  3646.0           5.725845e+06           7.0              7.0           14.0\n",
            "5    BRKM3    42.95     1755.0   2.39     2.31  11204.0  4234.0           6.039991e+05           3.0             12.0           15.0\n",
            "6    BRKM5    45.30     1668.0   2.52     2.31  11204.0  4234.0           1.380231e+08           3.0             12.0           15.0\n",
            "7    USIM5    13.40     1066.0   1.85     1.33   3724.0  3005.0           3.235875e+08          15.0              5.0           20.0\n",
            "8    USIM3    12.17     1064.0   1.68     1.33   3724.0  3005.0           1.012044e+07          15.0              5.0           20.0\n",
            "9    GOAU3    10.03     2338.0   2.15     0.87   1161.0  2818.0           1.138225e+06          22.0              1.0           23.0\n",
            "10   VALE3    89.20     1581.0   3.68     3.23   6152.0  4235.0           2.942812e+09           2.0             21.0           23.0\n",
            "11   GOAU4    11.21     2091.0   2.40     0.87   1161.0  2818.0           1.027866e+08          22.0              1.0           23.0\n",
            "12   CMIN3     5.73      816.0   5.04     2.74   4551.0  3546.0           4.957943e+07           9.0             16.0           25.0\n",
            "13   GGBR3    21.78     1446.0   2.41     2.47   3619.0  2869.0           1.428236e+06          19.0             14.0           33.0\n",
            "14   GGBR4    27.79     1134.0   3.07     2.47   3619.0  2869.0           3.874682e+08          19.0             14.0           33.0\n",
            "15   UNIP3    98.97     1419.0   5.89     4.10   6257.0  4045.0           2.442120e+06           5.0             29.0           34.0\n",
            "16   CSNA3    23.40      903.0   2.65     2.23   5244.0  2781.0           3.112669e+08          24.0             10.0           34.0\n",
            "17   UNIP6   102.72     1505.0   6.11     4.10   6257.0  4045.0           4.380195e+07           5.0             29.0           34.0\n",
            "18   DEXP3     8.74      322.0   4.16     3.31   4315.0  3105.0           2.843262e+06          12.0             25.0           37.0\n",
            "19   MRFG3    20.33     1408.0   3.23     2.91   7793.0  2834.0           1.408505e+08          21.0             18.0           39.0\n",
            "20   ALLD3    12.20      622.0   3.35     2.26   2232.0  2100.0           1.407586e+06          37.0             11.0           48.0\n",
            "21   PETR3    33.81     1676.0   4.13     3.28   2738.0  2321.0           6.782936e+08          28.0             22.0           50.0\n",
            "22   PETR4    31.17     1817.0   3.81     3.28   2738.0  2321.0           2.352932e+09          28.0             22.0           50.0\n",
            "23   LEVE3    24.24      381.0   5.48     4.22   3313.0  2902.0           7.615900e+06          18.0             32.0           50.0\n",
            "24   POSI3     7.09      483.0   3.26     2.92   2586.0  2026.0           2.543794e+07          41.0             19.0           60.0\n",
            "25   ENAT3    20.76       93.0   8.74     3.44   1828.0  2092.0           3.937270e+07          38.0             26.0           64.0\n",
            "26   CGRA4    36.90      367.0   3.85     3.29   2408.0  1967.0           2.635714e+05          42.0             24.0           66.0\n",
            "27   FESA4    43.47      209.0   5.96     4.68   2712.0  2674.0           2.096879e+07          25.0             43.0           68.0\n",
            "28   JALL3    10.55      279.0   9.54     4.98   2451.0  2387.0           8.695717e+06          27.0             49.0           76.0\n",
            "29   RANI3     5.90      639.0   5.31     4.37   2980.0  1789.0           8.365875e+06          52.0             37.0           89.0\n",
            "30   JHSF3     5.29     1052.0   3.60     4.24   2207.0  1685.0           2.872385e+07          56.0             33.0           89.0\n",
            "31   CMIG3    17.41      676.0   7.97     4.63   1827.0  1807.0           6.295169e+06          49.0             41.0           90.0\n",
            "32   CMIG4    12.71      926.0   5.81     4.63   1827.0  1807.0           1.007530e+08          49.0             41.0           90.0\n",
            "33  TAEE11    41.00     1096.0   6.40     5.99   3312.0  2242.0           1.100965e+08          31.0             62.0           93.0\n",
            "34   TAEE3    13.69     1095.0   6.40     5.99   3312.0  2242.0           1.155081e+06          31.0             62.0           93.0\n",
            "35   TAEE4    13.68     1096.0   6.40     5.99   3312.0  2242.0           2.365631e+06          31.0             62.0           93.0\n",
            "36   PTBL3     7.82     1303.0   5.87     5.99   5251.0  2208.0           7.519375e+06          34.0             62.0           96.0\n",
            "37  ALUP11    25.69      327.0   6.75     4.14   1115.0  1512.0           1.888534e+07          65.0             31.0           96.0\n",
            "38   KEPL3    52.98      315.0  10.28     7.38   3350.0  2917.0           1.703507e+07          17.0             81.0           98.0\n",
            "39   PARD3    16.79      171.0  10.27     6.26   2446.0  2304.0           6.136146e+06          30.0             69.0           99.0\n",
            "40   LAVV3     4.64     1475.0   5.40     2.78   1422.0  1275.0           4.745263e+06          82.0             17.0           99.0\n",
            "41   MOAR3   406.00     1228.0   8.09     7.98   4681.0  3111.0           3.580295e+05          11.0             92.0          103.0\n",
            "42   CPLE6     7.18     1824.0   3.47     4.26   2626.0  1431.0           7.845315e+07          73.0             34.0          107.0\n",
            "43   CPLE3     6.35     1875.0   3.07     4.26   2626.0  1431.0           7.596325e+06          73.0             34.0          107.0\n",
            "44  CPLE11    34.90     1027.0   3.37     4.26   2626.0  1431.0           1.543943e+07          73.0             34.0          107.0\n",
            "45   VBBR3    21.42      950.0   5.40     6.32   4093.0  2083.0           1.891749e+08          39.0             70.0          109.0\n",
            "46   SEER3    10.05      209.0   7.59     4.46   1168.0  1447.0           5.399154e+06          70.0             40.0          110.0\n",
            "47   EVEN3     5.55     1500.0  11.72     1.18    559.0  1042.0           9.964927e+06         107.0              4.0          111.0\n",
            "48   EUCA4     8.50      555.0   2.45     2.94   1800.0  1216.0           3.826990e+05          91.0             20.0          111.0\n",
            "49   CRPG5    48.44     1035.0   4.87     6.16   3315.0  1887.0           4.852901e+05          46.0             67.0          113.0\n",
            "50   CGAS5   122.80      992.0   7.68     8.67  19174.0  3009.0           6.146934e+05          14.0            100.0          114.0\n",
            "51   LJQQ3     6.43      220.0  15.44     5.87   1469.0  1722.0           2.395026e+07          54.0             61.0          115.0\n",
            "52   TRPL4    24.64     1127.0   5.39     5.59   2041.0  1652.0           4.216675e+07          59.0             58.0          117.0\n",
            "53   RAPT4     9.36      697.0   4.42     4.45   2131.0  1354.0           3.121154e+07          78.0             39.0          117.0\n",
            "54   PLPL3     2.62      747.0   4.97     5.41   3286.0  1521.0           2.064736e+06          63.0             56.0          119.0\n",
            "55   JBSS3    35.69      845.0   4.70     5.22   3874.0  1510.0           4.361091e+08          66.0             53.0          119.0\n",
            "56   SLCE3    50.21      212.0  10.00     7.39   2965.0  1942.0           1.032334e+08          43.0             82.0          125.0\n",
            "57   ENBR3    21.33      711.0   5.74     5.33   1757.0  1384.0           6.758691e+07          76.0             55.0          131.0\n",
            "58   DXCO3    13.45      951.0   5.94     6.70   3009.0  1695.0           5.444477e+07          55.0             77.0          132.0\n",
            "59  AURA33    49.90     1312.0  14.71     5.55   1582.0  1372.0           1.061779e+07          77.0             57.0          134.0\n",
            "60   SUZB3    58.62      126.0   9.26     7.59   5685.0  1897.0           3.816852e+08          45.0             89.0          134.0\n",
            "61   SAPR3     3.80      531.0   4.89     4.85   1505.0  1216.0           1.413238e+06          91.0             44.0          135.0\n",
            "62   SAPR4     3.92      564.0   5.06     4.85   1505.0  1216.0           1.117407e+07          91.0             44.0          135.0\n",
            "63  SAPR11    19.57      557.0   5.03     4.85   1505.0  1216.0           3.005059e+07          91.0             44.0          135.0\n",
            "64   ODPV3    11.74      402.0  16.38    11.63   3392.0  3051.0           1.975176e+07          13.0            123.0          136.0\n",
            "65   ITSA3     9.93      494.0   7.20     6.90   1755.0  1664.0           3.234228e+06          57.0             79.0          136.0\n",
            "66   CLSC4    61.39      771.0   4.20     4.38   2148.0  1161.0           3.498560e+05          98.0             38.0          136.0\n",
            "67   EMAE4    40.30      469.0   5.90     5.28   3076.0  1272.0           4.916641e+05          83.0             54.0          137.0\n",
            "68   ESPA3     3.86      372.0   3.40     5.62   3975.0  1349.0           1.665373e+07          80.0             59.0          139.0\n",
            "69   TECN3     2.04      393.0   5.76     3.97    853.0   932.0           3.324863e+06         115.0             27.0          142.0\n",
            "70   VULC3     9.20      379.0   7.23     7.69   2313.0  1754.0           4.916197e+06          53.0             90.0          143.0\n",
            "71   CARD3    14.12      364.0   9.77     6.67   1765.0  1487.0           3.747194e+06          68.0             76.0          144.0\n",
            "72   SMLS3    22.40     1798.0  10.78     9.93   3796.0  2447.0           2.586551e+07          26.0            118.0          144.0\n",
            "73   BEEF3    11.60      931.0  11.74     6.45   9155.0  1438.0           8.183826e+07          72.0             73.0          145.0\n",
            "74   ASAI3    13.49       82.0  11.25     9.05   5821.0  2167.0           1.196175e+08          36.0            109.0          145.0\n",
            "75   ROMI3    12.17      722.0   4.37     6.17   2112.0  1308.0           1.044177e+07          81.0             68.0          149.0\n"
          ]
        }
      ],
      "source": [
        "import pandas as pd\n",
        "import requests\n",
        "\n",
        "MAGIC_METHOD_FIELD = {\n",
        "    \"1\": {\"earnings yield\": \"P/L\", \"return on capital\": \"ROE\"},\n",
        "    \"2\": {\"earnings yield\": \"EV/EBIT\", \"return on capital\": \"ROIC\"},\n",
        "    \"3\": {\"earnings yield\": \"EV/EBITDA\", \"return on capital\": \"ROIC\"},\n",
        "}\n",
        "\n",
        "def busca_dados_fundamentus():\n",
        "  df = fundamentus.get_resultado_raw()\n",
        "  print(df)\n",
        "  return\n",
        "  df.reset_index(inplace=True)\n",
        "\n",
        "  df.drop([\"P/Cap.Giro\", \"P/EBIT\", \"P/VP\", \"PSR\", \"P/Ativo\", \"P/Ativ Circ.Liq\",\n",
        "                \"Mrg Ebit\", \"Mrg. Líq.\", \"Liq. Corr.\", \"Patrim. Líq\", \"Dív.Brut/ Patrim.\",\n",
        "                \"Cresc. Rec.5a\"], axis=1, inplace = True)\n",
        "  df.rename(columns={ \"papel\": \"Papel\" }, inplace = True)\n",
        "\n",
        "  df['ROIC'] = df.loc[:,'ROIC'] * 100  \n",
        "  df['ROE'] = df.loc[:,'ROE'] * 100  \n",
        "  df['Div.Yield'] = df.loc[:,'Div.Yield'] * 100\n",
        "\n",
        "  df = df[df['Liq.2meses'] > liquidez_minima_diaria] #tirando quem não tem liquidez\n",
        "  df = df[df['P/L'] > 0] #tirando quem tem prejuizo\n",
        "  df = df[df['EV/EBIT'] > 0] #tirando quem tem prejuizo\n",
        "  df = df[df['ROIC'] > 0] #tirando quem tem prejuizo\n",
        "  df = df[df['ROE'] > 0] #tirando quem tem prejuizo\n",
        "  df = df[df['Cotação'] >= cotacao_minima] #tirando penny stocks\n",
        "  #df = df[df['Div.Yield'] > dividend_yield_minimo]\n",
        "\n",
        "  #df = df[~df['Papel'].isin(lista_de_seguradoras)]\n",
        "  #df = df[~df['Papel'].isin(lista_de_bancos)]\n",
        "  #df_filtrado = df_filtrado[~df_filtrado['Papel'].isin(lista_de_eletricas)]\n",
        "  #df_filtrado = df_filtrado[~df_filtrado['Papel'].isin(lista_de_bdrs)]\n",
        "  return df\n",
        "\n",
        "def criar_rankings(df, campos):\n",
        "  if campos[0] == \"1\":\n",
        "    df[\"Ranking P/L\"] = df[\"P/L\"].rank(ascending=True, method=\"min\")\n",
        "    df[\"Ranking ROE\"] = df[\"ROE\"].rank(ascending=False, method=\"min\")\n",
        "  elif campos[0] == \"2\":\n",
        "    df[\"Ranking ROIC\"] = df[\"ROIC\"].rank(ascending=False, method=\"min\")\n",
        "    df[\"Ranking EV/EBIT\"] = df[\"EV/EBIT\"].rank(ascending=True, method=\"min\")\n",
        "  elif campos[0] == \"3\":\n",
        "    df[\"Ranking ROIC\"] = df[\"ROIC\"].rank(ascending=False, method=\"min\")\n",
        "    df[\"Ranking EV/EBITDA\"] = df[\"EV/EBITDA\"].rank(ascending=True, method=\"min\")\n",
        "  return df\n",
        "\n",
        "def gerar_ordenacao_final(df, campos):\n",
        "  if campos[0] == \"1\":\n",
        "    df[\"Ranking Final\"] = (df[\"Ranking P/L\"] + df[\"Ranking ROE\"])\n",
        "  elif campos[0] == \"2\":\n",
        "    df[\"Ranking Final\"] = (df[\"Ranking EV/EBIT\"] + df[\"Ranking ROIC\"])\n",
        "  elif campos[0] == \"3\":\n",
        "    df[\"Ranking Final\"] = (df[\"Ranking EV/EBITDA\"] + df[\"Ranking ROIC\"])\n",
        "  df.sort_values(by=\"Ranking Final\", ascending=True, inplace=True)\n",
        "  df.reset_index(inplace=True)\n",
        "  df.index = df.index + 1\n",
        "  df.drop([\"index\"], axis=1, inplace = True)\n",
        "  df.drop([\"level_0\"], axis=1, inplace = True)\n",
        "  return df\n",
        "\n",
        "if site[0] == \"1\":\n",
        "  df = busca_dados_fundamentus()\n",
        "elif site[0] == \"2\":\n",
        "  df = busca_dados_statusinvest()\n",
        "df = criar_rankings(df, campos)\n",
        "df = gerar_ordenacao_final(df, campos)\n",
        "\n",
        "print(\"=======================================\")\n",
        "print('Fórmula Mágica: ordenação baseada nos dados do site ' + site)\n",
        "print(\"=======================================\")\n",
        "print(df.head(numero_ativos_resultantes).to_string())\n",
        "\n"
      ]
    }
  ]
}